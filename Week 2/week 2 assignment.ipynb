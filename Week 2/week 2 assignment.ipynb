{
 "cells": [
  {
   "cell_type": "markdown",
   "id": "ade45293-6455-4ecd-8f52-b8047a2be94a",
   "metadata": {},
   "source": [
    "## Week 02 Assignment"
   ]
  },
  {
   "cell_type": "code",
   "execution_count": 104,
   "id": "5c5b1293-f91e-4c17-be5c-5d45bdb4901f",
   "metadata": {},
   "outputs": [],
   "source": [
    "# import necessary packages\n",
    "import pandas as pd"
   ]
  },
  {
   "cell_type": "code",
   "execution_count": 105,
   "id": "81b763d5-9b9e-4c8e-855f-0a7595d84597",
   "metadata": {},
   "outputs": [],
   "source": [
    "# import csv file to be analyzed\n",
    "rent_index = pd.read_csv(\"ZillowObservedRentIndex.csv\")"
   ]
  },
  {
   "cell_type": "code",
   "execution_count": 106,
   "id": "2896ad5f-ad1f-443b-b02d-1b27b0530dd0",
   "metadata": {},
   "outputs": [
    {
     "data": {
      "text/plain": [
       "(495, 99)"
      ]
     },
     "execution_count": 106,
     "metadata": {},
     "output_type": "execute_result"
    }
   ],
   "source": [
    "# view column and row number of dataset\n",
    "rent_index.shape"
   ]
  },
  {
   "cell_type": "markdown",
   "id": "d0715f0a-0868-47ff-8532-7069a9156555",
   "metadata": {},
   "source": [
    "Dataset is 495 rows long and 99 columns wide"
   ]
  },
  {
   "cell_type": "code",
   "execution_count": 107,
   "id": "bb3fc83a-4add-44fa-8d79-63ff9df42943",
   "metadata": {},
   "outputs": [
    {
     "data": {
      "text/html": [
       "<div>\n",
       "<style scoped>\n",
       "    .dataframe tbody tr th:only-of-type {\n",
       "        vertical-align: middle;\n",
       "    }\n",
       "\n",
       "    .dataframe tbody tr th {\n",
       "        vertical-align: top;\n",
       "    }\n",
       "\n",
       "    .dataframe thead th {\n",
       "        text-align: right;\n",
       "    }\n",
       "</style>\n",
       "<table border=\"1\" class=\"dataframe\">\n",
       "  <thead>\n",
       "    <tr style=\"text-align: right;\">\n",
       "      <th></th>\n",
       "      <th>RegionID</th>\n",
       "      <th>SizeRank</th>\n",
       "      <th>RegionName</th>\n",
       "      <th>RegionType</th>\n",
       "      <th>StateName</th>\n",
       "      <th>3/31/2015</th>\n",
       "      <th>4/30/2015</th>\n",
       "      <th>5/31/2015</th>\n",
       "      <th>6/30/2015</th>\n",
       "      <th>7/31/2015</th>\n",
       "      <th>...</th>\n",
       "      <th>3/31/2022</th>\n",
       "      <th>4/30/2022</th>\n",
       "      <th>5/31/2022</th>\n",
       "      <th>6/30/2022</th>\n",
       "      <th>7/31/2022</th>\n",
       "      <th>8/31/2022</th>\n",
       "      <th>9/30/2022</th>\n",
       "      <th>10/31/2022</th>\n",
       "      <th>11/30/2022</th>\n",
       "      <th>12/31/2022</th>\n",
       "    </tr>\n",
       "  </thead>\n",
       "  <tbody>\n",
       "    <tr>\n",
       "      <th>0</th>\n",
       "      <td>102001</td>\n",
       "      <td>0</td>\n",
       "      <td>United States</td>\n",
       "      <td>country</td>\n",
       "      <td>NaN</td>\n",
       "      <td>1311.959165</td>\n",
       "      <td>1322.062319</td>\n",
       "      <td>1331.874762</td>\n",
       "      <td>1342.029034</td>\n",
       "      <td>1348.204067</td>\n",
       "      <td>...</td>\n",
       "      <td>1885.040691</td>\n",
       "      <td>1910.209451</td>\n",
       "      <td>1932.421986</td>\n",
       "      <td>1956.918131</td>\n",
       "      <td>1977.373073</td>\n",
       "      <td>1990.621112</td>\n",
       "      <td>1995.946769</td>\n",
       "      <td>1994.088952</td>\n",
       "      <td>1985.869006</td>\n",
       "      <td>1980.753447</td>\n",
       "    </tr>\n",
       "    <tr>\n",
       "      <th>1</th>\n",
       "      <td>394913</td>\n",
       "      <td>1</td>\n",
       "      <td>New York, NY</td>\n",
       "      <td>msa</td>\n",
       "      <td>NY</td>\n",
       "      <td>2371.695412</td>\n",
       "      <td>2390.239699</td>\n",
       "      <td>2407.674698</td>\n",
       "      <td>2425.763695</td>\n",
       "      <td>2434.844754</td>\n",
       "      <td>...</td>\n",
       "      <td>2892.442671</td>\n",
       "      <td>2946.200005</td>\n",
       "      <td>3004.200237</td>\n",
       "      <td>3065.282551</td>\n",
       "      <td>3118.191119</td>\n",
       "      <td>3141.708285</td>\n",
       "      <td>3138.787642</td>\n",
       "      <td>3115.914765</td>\n",
       "      <td>3084.449038</td>\n",
       "      <td>3062.217042</td>\n",
       "    </tr>\n",
       "    <tr>\n",
       "      <th>2</th>\n",
       "      <td>753899</td>\n",
       "      <td>2</td>\n",
       "      <td>Los Angeles, CA</td>\n",
       "      <td>msa</td>\n",
       "      <td>CA</td>\n",
       "      <td>1925.055524</td>\n",
       "      <td>1938.059810</td>\n",
       "      <td>1951.263602</td>\n",
       "      <td>1962.786811</td>\n",
       "      <td>1978.899355</td>\n",
       "      <td>...</td>\n",
       "      <td>2803.734806</td>\n",
       "      <td>2838.344695</td>\n",
       "      <td>2872.020353</td>\n",
       "      <td>2896.723121</td>\n",
       "      <td>2917.400800</td>\n",
       "      <td>2930.629771</td>\n",
       "      <td>2937.995343</td>\n",
       "      <td>2933.546117</td>\n",
       "      <td>2924.797421</td>\n",
       "      <td>2916.552972</td>\n",
       "    </tr>\n",
       "    <tr>\n",
       "      <th>3</th>\n",
       "      <td>394463</td>\n",
       "      <td>3</td>\n",
       "      <td>Chicago, IL</td>\n",
       "      <td>msa</td>\n",
       "      <td>IL</td>\n",
       "      <td>1402.921523</td>\n",
       "      <td>1415.559115</td>\n",
       "      <td>1426.659315</td>\n",
       "      <td>1449.962961</td>\n",
       "      <td>1456.240522</td>\n",
       "      <td>...</td>\n",
       "      <td>1748.036323</td>\n",
       "      <td>1769.652943</td>\n",
       "      <td>1794.750091</td>\n",
       "      <td>1815.131999</td>\n",
       "      <td>1833.937232</td>\n",
       "      <td>1842.028147</td>\n",
       "      <td>1844.769901</td>\n",
       "      <td>1843.357960</td>\n",
       "      <td>1837.598605</td>\n",
       "      <td>1838.888337</td>\n",
       "    </tr>\n",
       "    <tr>\n",
       "      <th>4</th>\n",
       "      <td>394514</td>\n",
       "      <td>4</td>\n",
       "      <td>Dallas, TX</td>\n",
       "      <td>msa</td>\n",
       "      <td>TX</td>\n",
       "      <td>1161.731654</td>\n",
       "      <td>1172.255965</td>\n",
       "      <td>1184.271792</td>\n",
       "      <td>1192.173857</td>\n",
       "      <td>1198.469735</td>\n",
       "      <td>...</td>\n",
       "      <td>1725.037148</td>\n",
       "      <td>1748.497553</td>\n",
       "      <td>1776.853758</td>\n",
       "      <td>1810.438003</td>\n",
       "      <td>1834.600190</td>\n",
       "      <td>1844.543825</td>\n",
       "      <td>1843.759104</td>\n",
       "      <td>1831.681597</td>\n",
       "      <td>1817.135760</td>\n",
       "      <td>1802.254987</td>\n",
       "    </tr>\n",
       "  </tbody>\n",
       "</table>\n",
       "<p>5 rows × 99 columns</p>\n",
       "</div>"
      ],
      "text/plain": [
       "   RegionID  SizeRank       RegionName RegionType StateName    3/31/2015  \\\n",
       "0    102001         0    United States    country       NaN  1311.959165   \n",
       "1    394913         1     New York, NY        msa        NY  2371.695412   \n",
       "2    753899         2  Los Angeles, CA        msa        CA  1925.055524   \n",
       "3    394463         3      Chicago, IL        msa        IL  1402.921523   \n",
       "4    394514         4       Dallas, TX        msa        TX  1161.731654   \n",
       "\n",
       "     4/30/2015    5/31/2015    6/30/2015    7/31/2015  ...    3/31/2022  \\\n",
       "0  1322.062319  1331.874762  1342.029034  1348.204067  ...  1885.040691   \n",
       "1  2390.239699  2407.674698  2425.763695  2434.844754  ...  2892.442671   \n",
       "2  1938.059810  1951.263602  1962.786811  1978.899355  ...  2803.734806   \n",
       "3  1415.559115  1426.659315  1449.962961  1456.240522  ...  1748.036323   \n",
       "4  1172.255965  1184.271792  1192.173857  1198.469735  ...  1725.037148   \n",
       "\n",
       "     4/30/2022    5/31/2022    6/30/2022    7/31/2022    8/31/2022  \\\n",
       "0  1910.209451  1932.421986  1956.918131  1977.373073  1990.621112   \n",
       "1  2946.200005  3004.200237  3065.282551  3118.191119  3141.708285   \n",
       "2  2838.344695  2872.020353  2896.723121  2917.400800  2930.629771   \n",
       "3  1769.652943  1794.750091  1815.131999  1833.937232  1842.028147   \n",
       "4  1748.497553  1776.853758  1810.438003  1834.600190  1844.543825   \n",
       "\n",
       "     9/30/2022   10/31/2022   11/30/2022   12/31/2022  \n",
       "0  1995.946769  1994.088952  1985.869006  1980.753447  \n",
       "1  3138.787642  3115.914765  3084.449038  3062.217042  \n",
       "2  2937.995343  2933.546117  2924.797421  2916.552972  \n",
       "3  1844.769901  1843.357960  1837.598605  1838.888337  \n",
       "4  1843.759104  1831.681597  1817.135760  1802.254987  \n",
       "\n",
       "[5 rows x 99 columns]"
      ]
     },
     "execution_count": 107,
     "metadata": {},
     "output_type": "execute_result"
    }
   ],
   "source": [
    "# print first 5 rows of dataset\n",
    "rent_index.head()"
   ]
  },
  {
   "cell_type": "markdown",
   "id": "04307281-2ed2-4b34-8500-a3ee96e88d9f",
   "metadata": {},
   "source": [
    "- RegionID is a unique value for each observation, this is not necessary considering we have RegionName.\n",
    "- The RegionType is not valuable considering each region is an MSA (besides the first row which represents values for the U.S. - we will manage this later).\n",
    "- Most columns represent Rent Index values for different months starting in 3/31/2015. We do not need all of these data points for the purposes of this assignment and will drop them later."
   ]
  },
  {
   "cell_type": "code",
   "execution_count": 108,
   "id": "1778bffc-61ee-4764-ae3e-e129a75d1f22",
   "metadata": {},
   "outputs": [
    {
     "data": {
      "text/html": [
       "<div>\n",
       "<style scoped>\n",
       "    .dataframe tbody tr th:only-of-type {\n",
       "        vertical-align: middle;\n",
       "    }\n",
       "\n",
       "    .dataframe tbody tr th {\n",
       "        vertical-align: top;\n",
       "    }\n",
       "\n",
       "    .dataframe thead th {\n",
       "        text-align: right;\n",
       "    }\n",
       "</style>\n",
       "<table border=\"1\" class=\"dataframe\">\n",
       "  <thead>\n",
       "    <tr style=\"text-align: right;\">\n",
       "      <th></th>\n",
       "      <th>RegionName</th>\n",
       "      <th>StateName</th>\n",
       "      <th>RentIndex</th>\n",
       "    </tr>\n",
       "  </thead>\n",
       "  <tbody>\n",
       "    <tr>\n",
       "      <th>1</th>\n",
       "      <td>New York, NY</td>\n",
       "      <td>NY</td>\n",
       "      <td>3062.217042</td>\n",
       "    </tr>\n",
       "    <tr>\n",
       "      <th>2</th>\n",
       "      <td>Los Angeles, CA</td>\n",
       "      <td>CA</td>\n",
       "      <td>2916.552972</td>\n",
       "    </tr>\n",
       "    <tr>\n",
       "      <th>3</th>\n",
       "      <td>Chicago, IL</td>\n",
       "      <td>IL</td>\n",
       "      <td>1838.888337</td>\n",
       "    </tr>\n",
       "    <tr>\n",
       "      <th>4</th>\n",
       "      <td>Dallas, TX</td>\n",
       "      <td>TX</td>\n",
       "      <td>1802.254987</td>\n",
       "    </tr>\n",
       "    <tr>\n",
       "      <th>5</th>\n",
       "      <td>Houston, TX</td>\n",
       "      <td>TX</td>\n",
       "      <td>1654.290082</td>\n",
       "    </tr>\n",
       "  </tbody>\n",
       "</table>\n",
       "</div>"
      ],
      "text/plain": [
       "        RegionName StateName    RentIndex\n",
       "1     New York, NY        NY  3062.217042\n",
       "2  Los Angeles, CA        CA  2916.552972\n",
       "3      Chicago, IL        IL  1838.888337\n",
       "4       Dallas, TX        TX  1802.254987\n",
       "5      Houston, TX        TX  1654.290082"
      ]
     },
     "execution_count": 108,
     "metadata": {},
     "output_type": "execute_result"
    }
   ],
   "source": [
    "# clean up and simplify dataset\n",
    "rent_index_clean = rent_index[['RegionName', 'StateName', '12/31/2022']]\n",
    "# drop first row as it is not an MSA\n",
    "rent_index_clean = rent_index_clean.drop(index=0)\n",
    "# rename columns\n",
    "rent_index_clean.columns = ['RegionName', 'StateName', 'RentIndex']\n",
    "# print first 5 rows of dataset to check\n",
    "rent_index_clean.head()"
   ]
  },
  {
   "cell_type": "markdown",
   "id": "a56c9cfa-9f9f-4d04-9d00-bcc993b5e726",
   "metadata": {},
   "source": [
    "Successfully reduced dataset width and removed U.S. from consideration."
   ]
  },
  {
   "cell_type": "code",
   "execution_count": 109,
   "id": "64816cd4-4ae9-436a-9152-3edb2f7974ed",
   "metadata": {},
   "outputs": [
    {
     "name": "stdout",
     "output_type": "stream",
     "text": [
      "<class 'pandas.core.frame.DataFrame'>\n",
      "RangeIndex: 494 entries, 1 to 494\n",
      "Data columns (total 3 columns):\n",
      " #   Column      Non-Null Count  Dtype  \n",
      "---  ------      --------------  -----  \n",
      " 0   RegionName  494 non-null    object \n",
      " 1   StateName   494 non-null    object \n",
      " 2   RentIndex   494 non-null    float64\n",
      "dtypes: float64(1), object(2)\n",
      "memory usage: 11.7+ KB\n"
     ]
    }
   ],
   "source": [
    "# view data types for each column\n",
    "rent_index_clean.info()"
   ]
  },
  {
   "cell_type": "markdown",
   "id": "6bb03ade-4787-4ecf-8523-e9c83251ae3f",
   "metadata": {},
   "source": [
    "We have 3 columns, 2 being object datatypes and 1 being a float datatype."
   ]
  },
  {
   "cell_type": "code",
   "execution_count": 110,
   "id": "767a0d94-020b-4284-af58-4d0968fd5d73",
   "metadata": {},
   "outputs": [
    {
     "data": {
      "text/plain": [
       "RegionName    0\n",
       "StateName     0\n",
       "RentIndex     0\n",
       "dtype: int64"
      ]
     },
     "execution_count": 110,
     "metadata": {},
     "output_type": "execute_result"
    }
   ],
   "source": [
    "# confirm there are no missing values\n",
    "rent_index_clean.isnull().sum()"
   ]
  },
  {
   "cell_type": "markdown",
   "id": "5fd47cd0-404f-4073-9102-956e8db3b971",
   "metadata": {},
   "source": [
    "It does not appear there are any missing values from our dataset."
   ]
  },
  {
   "cell_type": "code",
   "execution_count": 111,
   "id": "813a2e67-7084-4403-8a49-0f14a3fbdfbd",
   "metadata": {},
   "outputs": [
    {
     "data": {
      "text/html": [
       "<div>\n",
       "<style scoped>\n",
       "    .dataframe tbody tr th:only-of-type {\n",
       "        vertical-align: middle;\n",
       "    }\n",
       "\n",
       "    .dataframe tbody tr th {\n",
       "        vertical-align: top;\n",
       "    }\n",
       "\n",
       "    .dataframe thead th {\n",
       "        text-align: right;\n",
       "    }\n",
       "</style>\n",
       "<table border=\"1\" class=\"dataframe\">\n",
       "  <thead>\n",
       "    <tr style=\"text-align: right;\">\n",
       "      <th></th>\n",
       "      <th>RegionName</th>\n",
       "      <th>StateName</th>\n",
       "      <th>RentIndex</th>\n",
       "    </tr>\n",
       "  </thead>\n",
       "  <tbody>\n",
       "    <tr>\n",
       "      <th>2</th>\n",
       "      <td>Los Angeles, CA</td>\n",
       "      <td>CA</td>\n",
       "      <td>2916.552972</td>\n",
       "    </tr>\n",
       "    <tr>\n",
       "      <th>12</th>\n",
       "      <td>San Francisco, CA</td>\n",
       "      <td>CA</td>\n",
       "      <td>3100.367345</td>\n",
       "    </tr>\n",
       "    <tr>\n",
       "      <th>13</th>\n",
       "      <td>Riverside, CA</td>\n",
       "      <td>CA</td>\n",
       "      <td>2513.500571</td>\n",
       "    </tr>\n",
       "    <tr>\n",
       "      <th>17</th>\n",
       "      <td>San Diego, CA</td>\n",
       "      <td>CA</td>\n",
       "      <td>2990.959908</td>\n",
       "    </tr>\n",
       "    <tr>\n",
       "      <th>26</th>\n",
       "      <td>Sacramento, CA</td>\n",
       "      <td>CA</td>\n",
       "      <td>2264.300467</td>\n",
       "    </tr>\n",
       "  </tbody>\n",
       "</table>\n",
       "</div>"
      ],
      "text/plain": [
       "           RegionName StateName    RentIndex\n",
       "2     Los Angeles, CA        CA  2916.552972\n",
       "12  San Francisco, CA        CA  3100.367345\n",
       "13      Riverside, CA        CA  2513.500571\n",
       "17      San Diego, CA        CA  2990.959908\n",
       "26     Sacramento, CA        CA  2264.300467"
      ]
     },
     "execution_count": 111,
     "metadata": {},
     "output_type": "execute_result"
    }
   ],
   "source": [
    "# since dataset is large, lets just focus on California --> filter for rows that where StateName == CA\n",
    "rent_index_clean_CA = rent_index_clean[rent_index_clean['StateName'] == \"CA\"]\n",
    "# print first 5 rows of dataset to check\n",
    "rent_index_clean_CA.head()"
   ]
  },
  {
   "cell_type": "markdown",
   "id": "443b15ba-4ce8-4c59-b4ba-3ea45352191c",
   "metadata": {},
   "source": [
    "It appears we successfully trimmed out all non-California states from the observations."
   ]
  },
  {
   "cell_type": "code",
   "execution_count": 112,
   "id": "8b99ac6b-8ea6-4248-bb7d-c1a6b0b77437",
   "metadata": {},
   "outputs": [
    {
     "data": {
      "text/plain": [
       "RegionName           StateName  RentIndex  \n",
       "Bakersfield, CA      CA         1680.077995    1\n",
       "Chico, CA            CA         1604.335937    1\n",
       "Visalia, CA          CA         1736.634615    1\n",
       "Vallejo, CA          CA         2394.515351    1\n",
       "Ukiah, CA            CA         1929.166667    1\n",
       "Truckee, CA          CA         2263.492063    1\n",
       "Susanville, CA       CA         1322.500000    1\n",
       "Stockton, CA         CA         2329.591129    1\n",
       "Santa Rosa, CA       CA         2623.056395    1\n",
       "Santa Maria, CA      CA         3550.273740    1\n",
       "Santa Cruz, CA       CA         3438.195370    1\n",
       "San Luis Obispo, CA  CA         2636.834325    1\n",
       "San Jose, CA         CA         3216.475715    1\n",
       "San Francisco, CA    CA         3100.367345    1\n",
       "San Diego, CA        CA         2990.959908    1\n",
       "Salinas, CA          CA         2458.242203    1\n",
       "Sacramento, CA       CA         2264.300467    1\n",
       "Riverside, CA        CA         2513.500571    1\n",
       "Redding, CA          CA         1489.667735    1\n",
       "Red Bluff, CA        CA         1500.000000    1\n",
       "Oxnard, CA           CA         2942.037875    1\n",
       "Napa, CA             CA         3022.962056    1\n",
       "Modesto, CA          CA         1909.574770    1\n",
       "Merced, CA           CA         1836.647246    1\n",
       "Madera, CA           CA         1940.833333    1\n",
       "Los Angeles, CA      CA         2916.552972    1\n",
       "Hanford, CA          CA         1871.333333    1\n",
       "Fresno, CA           CA         1893.185392    1\n",
       "Eureka, CA           CA         1385.000000    1\n",
       "El Centro, CA        CA         1737.500000    1\n",
       "Clearlake, CA        CA         1583.333333    1\n",
       "Yuba City, CA        CA         2051.750000    1\n",
       "dtype: int64"
      ]
     },
     "execution_count": 112,
     "metadata": {},
     "output_type": "execute_result"
    }
   ],
   "source": [
    "# run value counts on new data frame\n",
    "rent_index_clean_CA.value_counts()"
   ]
  },
  {
   "cell_type": "markdown",
   "id": "9e214653-b56c-4333-a2e5-51f3317433fc",
   "metadata": {},
   "source": [
    "Value_counts are not super helpful here since every observation is unique but is useful to view new dataset"
   ]
  },
  {
   "cell_type": "code",
   "execution_count": 113,
   "id": "dc1ef851-34a7-4aae-978f-c6ccc9315f6e",
   "metadata": {},
   "outputs": [
    {
     "data": {
      "text/html": [
       "<div>\n",
       "<style scoped>\n",
       "    .dataframe tbody tr th:only-of-type {\n",
       "        vertical-align: middle;\n",
       "    }\n",
       "\n",
       "    .dataframe tbody tr th {\n",
       "        vertical-align: top;\n",
       "    }\n",
       "\n",
       "    .dataframe thead th {\n",
       "        text-align: right;\n",
       "    }\n",
       "</style>\n",
       "<table border=\"1\" class=\"dataframe\">\n",
       "  <thead>\n",
       "    <tr style=\"text-align: right;\">\n",
       "      <th></th>\n",
       "      <th>RegionName</th>\n",
       "      <th>StateName</th>\n",
       "      <th>RentIndex</th>\n",
       "    </tr>\n",
       "  </thead>\n",
       "  <tbody>\n",
       "    <tr>\n",
       "      <th>2</th>\n",
       "      <td>Los Angeles, CA</td>\n",
       "      <td>CA</td>\n",
       "      <td>2916.552972</td>\n",
       "    </tr>\n",
       "    <tr>\n",
       "      <th>12</th>\n",
       "      <td>San Francisco, CA</td>\n",
       "      <td>CA</td>\n",
       "      <td>3100.367345</td>\n",
       "    </tr>\n",
       "    <tr>\n",
       "      <th>13</th>\n",
       "      <td>Riverside, CA</td>\n",
       "      <td>CA</td>\n",
       "      <td>2513.500571</td>\n",
       "    </tr>\n",
       "    <tr>\n",
       "      <th>17</th>\n",
       "      <td>San Diego, CA</td>\n",
       "      <td>CA</td>\n",
       "      <td>2990.959908</td>\n",
       "    </tr>\n",
       "    <tr>\n",
       "      <th>26</th>\n",
       "      <td>Sacramento, CA</td>\n",
       "      <td>CA</td>\n",
       "      <td>2264.300467</td>\n",
       "    </tr>\n",
       "    <tr>\n",
       "      <th>35</th>\n",
       "      <td>San Jose, CA</td>\n",
       "      <td>CA</td>\n",
       "      <td>3216.475715</td>\n",
       "    </tr>\n",
       "    <tr>\n",
       "      <th>72</th>\n",
       "      <td>Oxnard, CA</td>\n",
       "      <td>CA</td>\n",
       "      <td>2942.037875</td>\n",
       "    </tr>\n",
       "    <tr>\n",
       "      <th>77</th>\n",
       "      <td>Stockton, CA</td>\n",
       "      <td>CA</td>\n",
       "      <td>2329.591129</td>\n",
       "    </tr>\n",
       "    <tr>\n",
       "      <th>111</th>\n",
       "      <td>Santa Rosa, CA</td>\n",
       "      <td>CA</td>\n",
       "      <td>2623.056395</td>\n",
       "    </tr>\n",
       "    <tr>\n",
       "      <th>120</th>\n",
       "      <td>Vallejo, CA</td>\n",
       "      <td>CA</td>\n",
       "      <td>2394.515351</td>\n",
       "    </tr>\n",
       "    <tr>\n",
       "      <th>121</th>\n",
       "      <td>Santa Maria, CA</td>\n",
       "      <td>CA</td>\n",
       "      <td>3550.273740</td>\n",
       "    </tr>\n",
       "    <tr>\n",
       "      <th>123</th>\n",
       "      <td>Salinas, CA</td>\n",
       "      <td>CA</td>\n",
       "      <td>2458.242203</td>\n",
       "    </tr>\n",
       "    <tr>\n",
       "      <th>172</th>\n",
       "      <td>San Luis Obispo, CA</td>\n",
       "      <td>CA</td>\n",
       "      <td>2636.834325</td>\n",
       "    </tr>\n",
       "    <tr>\n",
       "      <th>178</th>\n",
       "      <td>Santa Cruz, CA</td>\n",
       "      <td>CA</td>\n",
       "      <td>3438.195370</td>\n",
       "    </tr>\n",
       "    <tr>\n",
       "      <th>241</th>\n",
       "      <td>Yuba City, CA</td>\n",
       "      <td>CA</td>\n",
       "      <td>2051.750000</td>\n",
       "    </tr>\n",
       "    <tr>\n",
       "      <th>302</th>\n",
       "      <td>Napa, CA</td>\n",
       "      <td>CA</td>\n",
       "      <td>3022.962056</td>\n",
       "    </tr>\n",
       "    <tr>\n",
       "      <th>366</th>\n",
       "      <td>Truckee, CA</td>\n",
       "      <td>CA</td>\n",
       "      <td>2263.492063</td>\n",
       "    </tr>\n",
       "  </tbody>\n",
       "</table>\n",
       "</div>"
      ],
      "text/plain": [
       "              RegionName StateName    RentIndex\n",
       "2        Los Angeles, CA        CA  2916.552972\n",
       "12     San Francisco, CA        CA  3100.367345\n",
       "13         Riverside, CA        CA  2513.500571\n",
       "17         San Diego, CA        CA  2990.959908\n",
       "26        Sacramento, CA        CA  2264.300467\n",
       "35          San Jose, CA        CA  3216.475715\n",
       "72            Oxnard, CA        CA  2942.037875\n",
       "77          Stockton, CA        CA  2329.591129\n",
       "111       Santa Rosa, CA        CA  2623.056395\n",
       "120          Vallejo, CA        CA  2394.515351\n",
       "121      Santa Maria, CA        CA  3550.273740\n",
       "123          Salinas, CA        CA  2458.242203\n",
       "172  San Luis Obispo, CA        CA  2636.834325\n",
       "178       Santa Cruz, CA        CA  3438.195370\n",
       "241        Yuba City, CA        CA  2051.750000\n",
       "302             Napa, CA        CA  3022.962056\n",
       "366          Truckee, CA        CA  2263.492063"
      ]
     },
     "execution_count": 113,
     "metadata": {},
     "output_type": "execute_result"
    }
   ],
   "source": [
    "# query data to see which regions have a rent index value greater than the total US rent index value\n",
    "expensive = rent_index_clean_CA[rent_index_clean_CA['RentIndex'] > 1980]\n",
    "expensive"
   ]
  },
  {
   "cell_type": "markdown",
   "id": "69b40ba4-5070-42fd-bf80-925c3b126a61",
   "metadata": {},
   "source": [
    "Queried data for MSAs that have higher values than the U.S. average for rent index values. Most of these MSAs make sense as they are major metropolitan areas with high population sizes, are coastal or are known for high productivity."
   ]
  },
  {
   "cell_type": "code",
   "execution_count": 115,
   "id": "39d75126-2d3d-43a4-8d52-9da2eaa1df99",
   "metadata": {},
   "outputs": [
    {
     "data": {
      "text/plain": [
       "53.125"
      ]
     },
     "execution_count": 115,
     "metadata": {},
     "output_type": "execute_result"
    }
   ],
   "source": [
    "# determine what percentage of regions in CA are above the US average value\n",
    "(expensive.shape[0]/rent_index_clean_CA.shape[0])*100"
   ]
  },
  {
   "cell_type": "markdown",
   "id": "a6a8852a-eeba-4f89-8971-290554f005b0",
   "metadata": {},
   "source": [
    "More than half of the MSAs in CA are more expensive than the average U.S. value."
   ]
  },
  {
   "cell_type": "code",
   "execution_count": 90,
   "id": "337cd418-a0ea-4fc0-9b20-af9308f5f5be",
   "metadata": {},
   "outputs": [
    {
     "data": {
      "text/html": [
       "<div>\n",
       "<style scoped>\n",
       "    .dataframe tbody tr th:only-of-type {\n",
       "        vertical-align: middle;\n",
       "    }\n",
       "\n",
       "    .dataframe tbody tr th {\n",
       "        vertical-align: top;\n",
       "    }\n",
       "\n",
       "    .dataframe thead th {\n",
       "        text-align: right;\n",
       "    }\n",
       "</style>\n",
       "<table border=\"1\" class=\"dataframe\">\n",
       "  <thead>\n",
       "    <tr style=\"text-align: right;\">\n",
       "      <th></th>\n",
       "      <th>RegionName</th>\n",
       "      <th>RentIndex</th>\n",
       "    </tr>\n",
       "  </thead>\n",
       "  <tbody>\n",
       "    <tr>\n",
       "      <th>2</th>\n",
       "      <td>Los Angeles, CA</td>\n",
       "      <td>2916.552972</td>\n",
       "    </tr>\n",
       "    <tr>\n",
       "      <th>12</th>\n",
       "      <td>San Francisco, CA</td>\n",
       "      <td>3100.367345</td>\n",
       "    </tr>\n",
       "    <tr>\n",
       "      <th>13</th>\n",
       "      <td>Riverside, CA</td>\n",
       "      <td>2513.500571</td>\n",
       "    </tr>\n",
       "    <tr>\n",
       "      <th>17</th>\n",
       "      <td>San Diego, CA</td>\n",
       "      <td>2990.959908</td>\n",
       "    </tr>\n",
       "    <tr>\n",
       "      <th>26</th>\n",
       "      <td>Sacramento, CA</td>\n",
       "      <td>2264.300467</td>\n",
       "    </tr>\n",
       "  </tbody>\n",
       "</table>\n",
       "</div>"
      ],
      "text/plain": [
       "           RegionName    RentIndex\n",
       "2     Los Angeles, CA  2916.552972\n",
       "12  San Francisco, CA  3100.367345\n",
       "13      Riverside, CA  2513.500571\n",
       "17      San Diego, CA  2990.959908\n",
       "26     Sacramento, CA  2264.300467"
      ]
     },
     "execution_count": 90,
     "metadata": {},
     "output_type": "execute_result"
    }
   ],
   "source": [
    "# drop StateName column since it is no longer useful\n",
    "rent_index_clean_CA = rent_index_clean_CA.drop(columns = 'StateName').copy()\n",
    "rent_index_clean_CA.head()"
   ]
  },
  {
   "cell_type": "markdown",
   "id": "9b1513b5-040e-495f-80c7-01b6bca70765",
   "metadata": {},
   "source": [
    "Successfully removed StateName from dataframe."
   ]
  },
  {
   "cell_type": "code",
   "execution_count": 116,
   "id": "0c9e7360-7cd4-416f-8d07-a609590b1667",
   "metadata": {},
   "outputs": [],
   "source": [
    "# sort by rent index values in descending order\n",
    "rent_index_clean_CA = rent_index_clean_CA.sort_values(by = ['RentIndex'], ascending = False)"
   ]
  },
  {
   "cell_type": "code",
   "execution_count": 117,
   "id": "b8e7fae0-fa61-4478-866d-cac3b3290d2c",
   "metadata": {},
   "outputs": [
    {
     "data": {
      "text/plain": [
       "<AxesSubplot: title={'center': 'Rent Index Values for California MSAs'}, xlabel='RegionName'>"
      ]
     },
     "execution_count": 117,
     "metadata": {},
     "output_type": "execute_result"
    },
    {
     "data": {
      "image/png": "[encoded data removed]",
      "text/plain": [
       "<Figure size 2000x1200 with 1 Axes>"
      ]
     },
     "metadata": {},
     "output_type": "display_data"
    }
   ],
   "source": [
    "# plot rent index values for California MSAs in descending order\n",
    "rent_index_clean_CA.plot.bar(\n",
    "    figsize=(20,12), \n",
    "    x = 'RegionName', \n",
    "    y = 'RentIndex', \n",
    "    title = 'Rent Index Values for California MSAs',\n",
    "    legend = False\n",
    ")"
   ]
  },
  {
   "cell_type": "markdown",
   "id": "08346c92-9977-49c3-bd90-2e35e53eb216",
   "metadata": {},
   "source": [
    "Successfully plotted bar graph demonstrating rent index values for California MSAs in descending order. Highly populated and coastal MSAs with high economic productivity dominate the upper half of the list while smaller and more inland MSAs occupy the lower end of the list."
   ]
  }
 ],
 "metadata": {
  "kernelspec": {
   "display_name": "Python 3 (ipykernel)",
   "language": "python",
   "name": "python3"
  },
  "language_info": {
   "codemirror_mode": {
    "name": "ipython",
    "version": 3
   },
   "file_extension": ".py",
   "mimetype": "text/x-python",
   "name": "python",
   "nbconvert_exporter": "python",
   "pygments_lexer": "ipython3",
   "version": "3.10.8"
  }
 },
 "nbformat": 4,
 "nbformat_minor": 5
}
